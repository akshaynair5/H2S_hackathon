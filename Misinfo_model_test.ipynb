{
 "cells": [
  {
   "cell_type": "code",
   "execution_count": 1,
   "id": "218c41f2-4922-4bd0-976a-6d72ef2bd439",
   "metadata": {},
   "outputs": [],
   "source": [
    "import pandas as pd\n",
    "import matplotlib.pyplot as plt\n",
    "import seaborn as sns\n",
    "# import warnings\n",
    "# warnings.filterwarnings('always')\n",
    "\n",
    "fake = pd.read_csv(\"Fake.csv\")\n",
    "true = pd.read_csv(\"True.csv\")"
   ]
  },
  {
   "cell_type": "code",
   "execution_count": 2,
   "id": "36719cd8-8dbf-403c-ad26-0a7b4eb9a2a7",
   "metadata": {},
   "outputs": [
    {
     "name": "stdout",
     "output_type": "stream",
     "text": [
      "Fake News Dataset Shape: (23481, 4)\n",
      "True News Dataset Shape: (21417, 4)\n"
     ]
    }
   ],
   "source": [
    "print(\"Fake News Dataset Shape:\", fake.shape)\n",
    "print(\"True News Dataset Shape:\", true.shape)"
   ]
  },
  {
   "cell_type": "code",
   "execution_count": 3,
   "id": "f6f506ec-0a5b-4c51-a933-377cddb5af33",
   "metadata": {},
   "outputs": [
    {
     "data": {
      "text/html": [
       "<div>\n",
       "<style scoped>\n",
       "    .dataframe tbody tr th:only-of-type {\n",
       "        vertical-align: middle;\n",
       "    }\n",
       "\n",
       "    .dataframe tbody tr th {\n",
       "        vertical-align: top;\n",
       "    }\n",
       "\n",
       "    .dataframe thead th {\n",
       "        text-align: right;\n",
       "    }\n",
       "</style>\n",
       "<table border=\"1\" class=\"dataframe\">\n",
       "  <thead>\n",
       "    <tr style=\"text-align: right;\">\n",
       "      <th></th>\n",
       "      <th>title</th>\n",
       "      <th>text</th>\n",
       "      <th>subject</th>\n",
       "      <th>date</th>\n",
       "    </tr>\n",
       "  </thead>\n",
       "  <tbody>\n",
       "    <tr>\n",
       "      <th>0</th>\n",
       "      <td>Donald Trump Sends Out Embarrassing New Year’...</td>\n",
       "      <td>Donald Trump just couldn t wish all Americans ...</td>\n",
       "      <td>News</td>\n",
       "      <td>December 31, 2017</td>\n",
       "    </tr>\n",
       "    <tr>\n",
       "      <th>1</th>\n",
       "      <td>Drunk Bragging Trump Staffer Started Russian ...</td>\n",
       "      <td>House Intelligence Committee Chairman Devin Nu...</td>\n",
       "      <td>News</td>\n",
       "      <td>December 31, 2017</td>\n",
       "    </tr>\n",
       "    <tr>\n",
       "      <th>2</th>\n",
       "      <td>Sheriff David Clarke Becomes An Internet Joke...</td>\n",
       "      <td>On Friday, it was revealed that former Milwauk...</td>\n",
       "      <td>News</td>\n",
       "      <td>December 30, 2017</td>\n",
       "    </tr>\n",
       "    <tr>\n",
       "      <th>3</th>\n",
       "      <td>Trump Is So Obsessed He Even Has Obama’s Name...</td>\n",
       "      <td>On Christmas day, Donald Trump announced that ...</td>\n",
       "      <td>News</td>\n",
       "      <td>December 29, 2017</td>\n",
       "    </tr>\n",
       "    <tr>\n",
       "      <th>4</th>\n",
       "      <td>Pope Francis Just Called Out Donald Trump Dur...</td>\n",
       "      <td>Pope Francis used his annual Christmas Day mes...</td>\n",
       "      <td>News</td>\n",
       "      <td>December 25, 2017</td>\n",
       "    </tr>\n",
       "  </tbody>\n",
       "</table>\n",
       "</div>"
      ],
      "text/plain": [
       "                                               title  \\\n",
       "0   Donald Trump Sends Out Embarrassing New Year’...   \n",
       "1   Drunk Bragging Trump Staffer Started Russian ...   \n",
       "2   Sheriff David Clarke Becomes An Internet Joke...   \n",
       "3   Trump Is So Obsessed He Even Has Obama’s Name...   \n",
       "4   Pope Francis Just Called Out Donald Trump Dur...   \n",
       "\n",
       "                                                text subject  \\\n",
       "0  Donald Trump just couldn t wish all Americans ...    News   \n",
       "1  House Intelligence Committee Chairman Devin Nu...    News   \n",
       "2  On Friday, it was revealed that former Milwauk...    News   \n",
       "3  On Christmas day, Donald Trump announced that ...    News   \n",
       "4  Pope Francis used his annual Christmas Day mes...    News   \n",
       "\n",
       "                date  \n",
       "0  December 31, 2017  \n",
       "1  December 31, 2017  \n",
       "2  December 30, 2017  \n",
       "3  December 29, 2017  \n",
       "4  December 25, 2017  "
      ]
     },
     "execution_count": 3,
     "metadata": {},
     "output_type": "execute_result"
    }
   ],
   "source": [
    "fake.head()"
   ]
  },
  {
   "cell_type": "code",
   "execution_count": 4,
   "id": "2bb9a43f-a28a-49e9-8010-a60a7837ae4a",
   "metadata": {},
   "outputs": [
    {
     "data": {
      "text/html": [
       "<div>\n",
       "<style scoped>\n",
       "    .dataframe tbody tr th:only-of-type {\n",
       "        vertical-align: middle;\n",
       "    }\n",
       "\n",
       "    .dataframe tbody tr th {\n",
       "        vertical-align: top;\n",
       "    }\n",
       "\n",
       "    .dataframe thead th {\n",
       "        text-align: right;\n",
       "    }\n",
       "</style>\n",
       "<table border=\"1\" class=\"dataframe\">\n",
       "  <thead>\n",
       "    <tr style=\"text-align: right;\">\n",
       "      <th></th>\n",
       "      <th>title</th>\n",
       "      <th>text</th>\n",
       "      <th>subject</th>\n",
       "      <th>date</th>\n",
       "    </tr>\n",
       "  </thead>\n",
       "  <tbody>\n",
       "    <tr>\n",
       "      <th>0</th>\n",
       "      <td>As U.S. budget fight looms, Republicans flip t...</td>\n",
       "      <td>WASHINGTON (Reuters) - The head of a conservat...</td>\n",
       "      <td>politicsNews</td>\n",
       "      <td>December 31, 2017</td>\n",
       "    </tr>\n",
       "    <tr>\n",
       "      <th>1</th>\n",
       "      <td>U.S. military to accept transgender recruits o...</td>\n",
       "      <td>WASHINGTON (Reuters) - Transgender people will...</td>\n",
       "      <td>politicsNews</td>\n",
       "      <td>December 29, 2017</td>\n",
       "    </tr>\n",
       "    <tr>\n",
       "      <th>2</th>\n",
       "      <td>Senior U.S. Republican senator: 'Let Mr. Muell...</td>\n",
       "      <td>WASHINGTON (Reuters) - The special counsel inv...</td>\n",
       "      <td>politicsNews</td>\n",
       "      <td>December 31, 2017</td>\n",
       "    </tr>\n",
       "    <tr>\n",
       "      <th>3</th>\n",
       "      <td>FBI Russia probe helped by Australian diplomat...</td>\n",
       "      <td>WASHINGTON (Reuters) - Trump campaign adviser ...</td>\n",
       "      <td>politicsNews</td>\n",
       "      <td>December 30, 2017</td>\n",
       "    </tr>\n",
       "    <tr>\n",
       "      <th>4</th>\n",
       "      <td>Trump wants Postal Service to charge 'much mor...</td>\n",
       "      <td>SEATTLE/WASHINGTON (Reuters) - President Donal...</td>\n",
       "      <td>politicsNews</td>\n",
       "      <td>December 29, 2017</td>\n",
       "    </tr>\n",
       "  </tbody>\n",
       "</table>\n",
       "</div>"
      ],
      "text/plain": [
       "                                               title  \\\n",
       "0  As U.S. budget fight looms, Republicans flip t...   \n",
       "1  U.S. military to accept transgender recruits o...   \n",
       "2  Senior U.S. Republican senator: 'Let Mr. Muell...   \n",
       "3  FBI Russia probe helped by Australian diplomat...   \n",
       "4  Trump wants Postal Service to charge 'much mor...   \n",
       "\n",
       "                                                text       subject  \\\n",
       "0  WASHINGTON (Reuters) - The head of a conservat...  politicsNews   \n",
       "1  WASHINGTON (Reuters) - Transgender people will...  politicsNews   \n",
       "2  WASHINGTON (Reuters) - The special counsel inv...  politicsNews   \n",
       "3  WASHINGTON (Reuters) - Trump campaign adviser ...  politicsNews   \n",
       "4  SEATTLE/WASHINGTON (Reuters) - President Donal...  politicsNews   \n",
       "\n",
       "                 date  \n",
       "0  December 31, 2017   \n",
       "1  December 29, 2017   \n",
       "2  December 31, 2017   \n",
       "3  December 30, 2017   \n",
       "4  December 29, 2017   "
      ]
     },
     "execution_count": 4,
     "metadata": {},
     "output_type": "execute_result"
    }
   ],
   "source": [
    "true.head()\n"
   ]
  },
  {
   "cell_type": "code",
   "execution_count": 5,
   "id": "12a32cc1-cab7-4b56-89b7-80e9d3c851e1",
   "metadata": {},
   "outputs": [],
   "source": [
    "# Concat two data frames together \n",
    "\n",
    "fake[\"label\"] = 0  # 0 = Fake\n",
    "true[\"label\"] = 1  # 1 = Real\n",
    "\n",
    "df = pd.concat([fake, true], axis=0)"
   ]
  },
  {
   "cell_type": "code",
   "execution_count": 6,
   "id": "b47cd31b-90da-40db-8c8e-45fd1a9af3f8",
   "metadata": {},
   "outputs": [
    {
     "name": "stdout",
     "output_type": "stream",
     "text": [
      "title      0\n",
      "text       0\n",
      "subject    0\n",
      "date       0\n",
      "label      0\n",
      "dtype: int64\n"
     ]
    }
   ],
   "source": [
    "print(df.isnull().sum())"
   ]
  },
  {
   "cell_type": "code",
   "execution_count": 7,
   "id": "556f5a09-7b5b-44f6-b267-f43818ed447d",
   "metadata": {},
   "outputs": [
    {
     "data": {
      "image/png": "[encoded data removed]",
      "text/plain": [
       "<Figure size 640x480 with 1 Axes>"
      ]
     },
     "metadata": {},
     "output_type": "display_data"
    }
   ],
   "source": [
    "sns.countplot(x=\"label\", data=df)\n",
    "plt.title(\"Class distribution (0=Fake, 1=True)\")\n",
    "plt.show()"
   ]
  },
  {
   "cell_type": "code",
   "execution_count": 8,
   "id": "b15b2b1d-e4dc-4f76-863d-cd4cf84532e3",
   "metadata": {},
   "outputs": [],
   "source": [
    "# add dependency\n",
    "import string\n",
    "import nltk\n",
    "from nltk.corpus import stopwords\n",
    "from nltk.stem import WordNetLemmatizer\n",
    "import re"
   ]
  },
  {
   "cell_type": "code",
   "execution_count": 9,
   "id": "b4d52528-bd43-4768-89b3-5379565a6450",
   "metadata": {},
   "outputs": [],
   "source": [
    "# uppercase to lowercase\n",
    "df[\"text\"] = df[\"text\"].str.lower()\n",
    "\n",
    "# deleting link and stuff XD\n",
    "df[\"text\"] = df[\"text\"].apply(lambda x: re.sub(r'http\\S+|www\\S+|https\\S+', '', x))  \n",
    "df[\"text\"] = df[\"text\"].apply(lambda x: re.sub(r'\\d+', '', x))  \n",
    "df[\"text\"] = df[\"text\"].apply(lambda x: x.translate(str.maketrans('', '', string.punctuation)))"
   ]
  },
  {
   "cell_type": "code",
   "execution_count": 10,
   "id": "519fdb28-b349-4154-86a5-dc74714efec7",
   "metadata": {},
   "outputs": [],
   "source": [
    "# delete stopwords\n",
    "stop_words = set(stopwords.words('english'))\n",
    "df[\"text\"] = df[\"text\"].apply(lambda x: ' '.join([word for word in x.split() if word not in stop_words]))"
   ]
  },
  {
   "cell_type": "code",
   "execution_count": 11,
   "id": "5ea9ea97-2b1d-4107-9785-96757e4a0c26",
   "metadata": {},
   "outputs": [],
   "source": [
    "# Lemmatization\n",
    "lemmatizer = WordNetLemmatizer()\n",
    "df[\"text\"] = df[\"text\"].apply(lambda x: ' '.join([lemmatizer.lemmatize(word) for word in x.split()]))"
   ]
  },
  {
   "cell_type": "code",
   "execution_count": 12,
   "id": "758f08ac-115a-4a58-b1c0-cf5ce843cfa4",
   "metadata": {},
   "outputs": [
    {
     "data": {
      "text/plain": [
       "0    donald trump wish american happy new year leav...\n",
       "1    house intelligence committee chairman devin nu...\n",
       "2    friday revealed former milwaukee sheriff david...\n",
       "3    christmas day donald trump announced would bac...\n",
       "4    pope francis used annual christmas day message...\n",
       "Name: text, dtype: object"
      ]
     },
     "execution_count": 12,
     "metadata": {},
     "output_type": "execute_result"
    }
   ],
   "source": [
    "df[\"text\"].head()"
   ]
  },
  {
   "cell_type": "code",
   "execution_count": 13,
   "id": "ea5a260b-eec9-42b6-a9d9-2e2b39ae96bc",
   "metadata": {},
   "outputs": [
    {
     "name": "stdout",
     "output_type": "stream",
     "text": [
      "Logistic Regression:               precision    recall  f1-score   support\n",
      "\n",
      "           0       0.99      0.99      0.99      4696\n",
      "           1       0.99      0.99      0.99      4284\n",
      "\n",
      "    accuracy                           0.99      8980\n",
      "   macro avg       0.99      0.99      0.99      8980\n",
      "weighted avg       0.99      0.99      0.99      8980\n",
      "\n"
     ]
    },
    {
     "name": "stderr",
     "output_type": "stream",
     "text": [
      "D:\\anaconda3\\Lib\\site-packages\\sklearn\\svm\\_classes.py:31: FutureWarning: The default value of `dual` will change from `True` to `'auto'` in 1.5. Set the value of `dual` explicitly to suppress the warning.\n",
      "  warnings.warn(\n"
     ]
    },
    {
     "name": "stdout",
     "output_type": "stream",
     "text": [
      "Linear SVC:               precision    recall  f1-score   support\n",
      "\n",
      "           0       1.00      1.00      1.00      4696\n",
      "           1       1.00      1.00      1.00      4284\n",
      "\n",
      "    accuracy                           1.00      8980\n",
      "   macro avg       1.00      1.00      1.00      8980\n",
      "weighted avg       1.00      1.00      1.00      8980\n",
      "\n",
      "Multinomial NB:               precision    recall  f1-score   support\n",
      "\n",
      "           0       0.97      0.94      0.95      4696\n",
      "           1       0.93      0.97      0.95      4284\n",
      "\n",
      "    accuracy                           0.95      8980\n",
      "   macro avg       0.95      0.95      0.95      8980\n",
      "weighted avg       0.95      0.95      0.95      8980\n",
      "\n",
      "Random Forest:               precision    recall  f1-score   support\n",
      "\n",
      "           0       1.00      0.99      0.99      4696\n",
      "           1       0.99      1.00      0.99      4284\n",
      "\n",
      "    accuracy                           0.99      8980\n",
      "   macro avg       0.99      0.99      0.99      8980\n",
      "weighted avg       0.99      0.99      0.99      8980\n",
      "\n",
      "Gradient Boosting:               precision    recall  f1-score   support\n",
      "\n",
      "           0       1.00      0.99      1.00      4696\n",
      "           1       0.99      1.00      1.00      4284\n",
      "\n",
      "    accuracy                           1.00      8980\n",
      "   macro avg       1.00      1.00      1.00      8980\n",
      "weighted avg       1.00      1.00      1.00      8980\n",
      "\n",
      "Model Comparison:\n",
      "                 Model  Accuracy\n",
      "1           Linear SVC  0.996214\n",
      "4    Gradient Boosting  0.996102\n",
      "3        Random Forest  0.994321\n",
      "0  Logistic Regression  0.988085\n",
      "2       Multinomial NB  0.952450\n"
     ]
    }
   ],
   "source": [
    "from sklearn.model_selection import train_test_split\n",
    "from sklearn.feature_extraction.text import TfidfVectorizer\n",
    "from sklearn.linear_model import LogisticRegression\n",
    "from sklearn.naive_bayes import MultinomialNB\n",
    "from sklearn.svm import LinearSVC\n",
    "from sklearn.ensemble import RandomForestClassifier, GradientBoostingClassifier\n",
    "from sklearn.metrics import accuracy_score, classification_report\n",
    "# import warnings\n",
    "# warnings.filterwarnings(\"ignore\")\n",
    "\n",
    "# We have to input 'text' as the only input to the models --> prevent data leakage \n",
    "X_train, X_test, y_train, y_test = train_test_split(\n",
    "    df[\"text\"], df[\"label\"], test_size=0.2, random_state=42, stratify=df[\"label\"]\n",
    ")\n",
    "\n",
    "vectorizer = TfidfVectorizer(max_df=0.7)\n",
    "tfidf_train = vectorizer.fit_transform(X_train)\n",
    "tfidf_test = vectorizer.transform(X_test)\n",
    "\n",
    "models = {\n",
    "    \"Logistic Regression\": LogisticRegression(max_iter=250),\n",
    "    \"Linear SVC\": LinearSVC(),\n",
    "    \"Multinomial NB\": MultinomialNB(),\n",
    "    \"Random Forest\": RandomForestClassifier(n_estimators=200, random_state=40),\n",
    "    \"Gradient Boosting\": GradientBoostingClassifier(random_state=40)\n",
    "}\n",
    "\n",
    "results = []\n",
    "\n",
    "for name, model in models.items():\n",
    "    model.fit(tfidf_train, y_train)\n",
    "    y_pred = model.predict(tfidf_test)\n",
    "    acc = accuracy_score(y_test, y_pred)\n",
    "    results.append({\"Model\": name, \"Accuracy\": acc})\n",
    "    print(f\"{name}:\", classification_report(y_test, y_pred))\n",
    "\n",
    "results_df = pd.DataFrame(results).sort_values(by=\"Accuracy\", ascending=False)\n",
    "print(\"Model Comparison:\")\n",
    "print(results_df)"
   ]
  },
  {
   "cell_type": "code",
   "execution_count": 14,
   "id": "b2c375c2-76f3-4700-bf69-1283aee58a3c",
   "metadata": {},
   "outputs": [
    {
     "name": "stdout",
     "output_type": "stream",
     "text": [
      "Fake sample words: ['talkingvia', 'youtubemair', 'statesacorn', 'africaat', 'greatif', 'followinglike', 'householdswhat', 'lorenzen', 'hannitytoensing', 'boldnessbeing', 'brashness', 'leaderyou', 'underarm', 'abilityall', 'savedfeatured', 'officethankfully', 'supportersand', 'foodprocessing', 'successorspresident', 'treatedcarter']\n",
      "Real sample words : ['nettle', 'antimacri', 'mmamaloko', 'scaledback', 'petrolbomb', 'saintremydeprovence', 'radogno', 'wpoliticepl', 'undertrials', 'nlnfvk', 'lopez’', 'brexiteers', 'pacify', '“quiet”', 'amsterdamunited', '“gunpocalypse”', 'boao', '“racist”', 'direct”', 'doing’”']\n"
     ]
    }
   ],
   "source": [
    "from collections import Counter\n",
    "\n",
    "fake_words = Counter(\" \".join(df[df[\"label\"]==0][\"text\"]).split())\n",
    "real_words = Counter(\" \".join(df[df[\"label\"]==1][\"text\"]).split())\n",
    "\n",
    "exclusive_fake = set(fake_words) - set(real_words)\n",
    "exclusive_real = set(real_words) - set(fake_words)\n",
    "\n",
    "print(\"Fake sample words:\", list(exclusive_fake)[:20])\n",
    "print(\"Real sample words :\", list(exclusive_real)[:20])"
   ]
  },
  {
   "cell_type": "code",
   "execution_count": 15,
   "id": "3f56d45c-b7c6-4279-82dd-16a9b820c445",
   "metadata": {},
   "outputs": [
    {
     "name": "stdout",
     "output_type": "stream",
     "text": [
      " dup news : 11426\n"
     ]
    }
   ],
   "source": [
    "duplicates = df.duplicated(subset=[\"text\"], keep=False)\n",
    "print(\" dup news :\", duplicates.sum())"
   ]
  },
  {
   "cell_type": "code",
   "execution_count": 16,
   "id": "f5ec0916-fee0-4fe1-aed9-c5159af10c7d",
   "metadata": {},
   "outputs": [
    {
     "name": "stdout",
     "output_type": "stream",
     "text": [
      ": 38583\n"
     ]
    }
   ],
   "source": [
    "#delete duplicated\n",
    "df_clean = df.drop_duplicates(subset=[\"text\"]).reset_index(drop=True)\n",
    "print(f\": {len(df_clean)}\")"
   ]
  },
  {
   "cell_type": "code",
   "execution_count": 17,
   "id": "b04645f1-8571-4837-b92e-688705b118c1",
   "metadata": {},
   "outputs": [],
   "source": [
    "# preprocessing agian\n",
    "def clean_text(text):\n",
    "    text = text.lower()\n",
    "    text = re.sub(r\"http\\S+\", \"\", text)               \n",
    "    text = re.sub(r\"\\d+\", \"\", text)                  \n",
    "    text = text.translate(str.maketrans(\"\", \"\", string.punctuation)) \n",
    "    text = re.sub(r\"\\s+\", \" \", text).strip()\n",
    "    return text\n",
    "\n",
    "df_clean[\"clean_text\"] = df_clean[\"text\"].apply(clean_text)"
   ]
  },
  {
   "cell_type": "code",
   "execution_count": 18,
   "id": "2b1b443b-7c20-4c50-b8ba-540cf0e683ff",
   "metadata": {},
   "outputs": [],
   "source": [
    "# Identify exclusive words\n",
    "\n",
    "fake_words = Counter(\" \".join(df_clean[df_clean[\"label\"]==0][\"clean_text\"]).split())\n",
    "real_words = Counter(\" \".join(df_clean[df_clean[\"label\"]==1][\"clean_text\"]).split())\n",
    "\n",
    "exclusive_fake = set(fake_words) - set(real_words)\n",
    "exclusive_real = set(real_words) - set(fake_words)"
   ]
  },
  {
   "cell_type": "code",
   "execution_count": 19,
   "id": "05b6e912-a100-4e69-a846-9720a6af84d6",
   "metadata": {},
   "outputs": [],
   "source": [
    "# delete exclusive\n",
    "\n",
    "def remove_exclusive_and_rare_words(text, rare_threshold=2):\n",
    "    words = text.split()\n",
    "    words = [w for w in words if w not in exclusive_fake and w not in exclusive_real]\n",
    "    counts = Counter(words)\n",
    "    words = [w for w in words if counts[w] >= rare_threshold]\n",
    "    return \" \".join(words)\n",
    "\n",
    "df_clean[\"clean_text\"] = df_clean[\"clean_text\"].apply(remove_exclusive_and_rare_words)"
   ]
  },
  {
   "cell_type": "code",
   "execution_count": 20,
   "id": "7dd596c9-de7e-4f9a-9505-3f2bc16dfaa5",
   "metadata": {},
   "outputs": [],
   "source": [
    "# train-test and vectorize\n",
    "X_train, X_test, y_train, y_test = train_test_split(\n",
    "    df_clean[\"clean_text\"], df_clean[\"label\"], test_size=0.2,\n",
    "    random_state=42, stratify=df_clean[\"label\"]\n",
    ")\n",
    "\n",
    "vectorizer = TfidfVectorizer(max_df=0.7, min_df=3, ngram_range=(1, 2))\n",
    "X_train_tfidf = vectorizer.fit_transform(X_train)\n",
    "X_test_tfidf = vectorizer.transform(X_test)"
   ]
  },
  {
   "cell_type": "code",
   "execution_count": 21,
   "id": "b1011d07-8e5a-4b5e-8aec-be0799a83e1e",
   "metadata": {},
   "outputs": [
    {
     "name": "stderr",
     "output_type": "stream",
     "text": [
      "D:\\anaconda3\\Lib\\site-packages\\sklearn\\svm\\_classes.py:31: FutureWarning: The default value of `dual` will change from `True` to `'auto'` in 1.5. Set the value of `dual` explicitly to suppress the warning.\n",
      "  warnings.warn(\n"
     ]
    },
    {
     "name": "stdout",
     "output_type": "stream",
     "text": [
      "Linear SVC Accuracy: 0.9492\n",
      "              precision    recall  f1-score   support\n",
      "\n",
      "           0       0.94      0.95      0.94      3479\n",
      "           1       0.96      0.95      0.95      4238\n",
      "\n",
      "    accuracy                           0.95      7717\n",
      "   macro avg       0.95      0.95      0.95      7717\n",
      "weighted avg       0.95      0.95      0.95      7717\n",
      "\n",
      "Gradient Boosting Accuracy: 0.8878\n",
      "              precision    recall  f1-score   support\n",
      "\n",
      "           0       0.86      0.90      0.88      3479\n",
      "           1       0.91      0.88      0.90      4238\n",
      "\n",
      "    accuracy                           0.89      7717\n",
      "   macro avg       0.89      0.89      0.89      7717\n",
      "weighted avg       0.89      0.89      0.89      7717\n",
      "\n",
      "Random Forest Accuracy: 0.9375\n",
      "              precision    recall  f1-score   support\n",
      "\n",
      "           0       0.94      0.92      0.93      3479\n",
      "           1       0.93      0.95      0.94      4238\n",
      "\n",
      "    accuracy                           0.94      7717\n",
      "   macro avg       0.94      0.94      0.94      7717\n",
      "weighted avg       0.94      0.94      0.94      7717\n",
      "\n",
      "Multinomial NB Accuracy: 0.9054\n",
      "              precision    recall  f1-score   support\n",
      "\n",
      "           0       0.93      0.85      0.89      3479\n",
      "           1       0.89      0.95      0.92      4238\n",
      "\n",
      "    accuracy                           0.91      7717\n",
      "   macro avg       0.91      0.90      0.90      7717\n",
      "weighted avg       0.91      0.91      0.90      7717\n",
      "\n",
      "Logistic Regression Accuracy: 0.9427\n",
      "              precision    recall  f1-score   support\n",
      "\n",
      "           0       0.94      0.93      0.94      3479\n",
      "           1       0.95      0.95      0.95      4238\n",
      "\n",
      "    accuracy                           0.94      7717\n",
      "   macro avg       0.94      0.94      0.94      7717\n",
      "weighted avg       0.94      0.94      0.94      7717\n",
      "\n",
      "Summary of accuracies:\n",
      "Linear SVC: 0.9492\n",
      "Gradient Boosting: 0.8878\n",
      "Random Forest: 0.9375\n",
      "Multinomial NB: 0.9054\n",
      "Logistic Regression: 0.9427\n"
     ]
    }
   ],
   "source": [
    "\n",
    "models = {\n",
    "    \"Linear SVC\": LinearSVC(max_iter=3000),\n",
    "    \"Gradient Boosting\": GradientBoostingClassifier(),\n",
    "    \"Random Forest\": RandomForestClassifier(n_estimators=250, random_state=40, n_jobs=-1),\n",
    "    \"Multinomial NB\": MultinomialNB(),\n",
    "    \"Logistic Regression\": LogisticRegression(max_iter=250)\n",
    "}\n",
    "\n",
    "results = {}\n",
    "for name, model in models.items():\n",
    "    model.fit(X_train_tfidf, y_train)\n",
    "    preds = model.predict(X_test_tfidf)\n",
    "    acc = accuracy_score(y_test, preds)\n",
    "    results[name] = acc\n",
    "    print(f\"{name} Accuracy: {acc:.4f}\")\n",
    "    print(classification_report(y_test, preds))\n",
    "\n",
    "print(\"Summary of accuracies:\")\n",
    "for k, v in results.items():\n",
    "    print(f\"{k}: {v:.4f}\")"
   ]
  },
  {
   "cell_type": "code",
   "execution_count": 22,
   "id": "dcc34c1a-1597-41e8-be32-7f84b6ccb2ae",
   "metadata": {},
   "outputs": [
    {
     "data": {
      "image/png": "[encoded data removed]",
      "text/plain": [
       "<Figure size 800x600 with 1 Axes>"
      ]
     },
     "metadata": {},
     "output_type": "display_data"
    }
   ],
   "source": [
    "import matplotlib.pyplot as plt\n",
    "\n",
    "plt.figure(figsize=(8, 6))\n",
    "plt.bar(results.keys(), results.values())\n",
    "plt.title(\"Model Accuracies Comparison\")\n",
    "plt.xlabel(\"Models\")\n",
    "plt.ylabel(\"Accuracy\")\n",
    "plt.xticks(rotation=30)\n",
    "plt.ylim(0, 1)  \n",
    "plt.show()\n"
   ]
  },
  {
   "cell_type": "code",
   "execution_count": 24,
   "id": "19f8657b-02bd-4791-ab24-a04e60600ae9",
   "metadata": {},
   "outputs": [
    {
     "name": "stderr",
     "output_type": "stream",
     "text": [
      "D:\\anaconda3\\Lib\\site-packages\\sklearn\\svm\\_classes.py:31: FutureWarning: The default value of `dual` will change from `True` to `'auto'` in 1.5. Set the value of `dual` explicitly to suppress the warning.\n",
      "  warnings.warn(\n"
     ]
    },
    {
     "name": "stdout",
     "output_type": "stream",
     "text": [
      "Model and vectorizer saved successfully!\n"
     ]
    }
   ],
   "source": [
    "import joblib\n",
    "\n",
    "best_model = LinearSVC(max_iter=3000)\n",
    "best_model.fit(X_train_tfidf, y_train)\n",
    "\n",
    "# Save the model\n",
    "joblib.dump(best_model, \"final_model.pkl\")\n",
    "\n",
    "# Save the TF-IDF vectorizer as well (important for transforming new text)\n",
    "joblib.dump(vectorizer, \"tfidf_vectorizer.pkl\")\n",
    "\n",
    "print(\"Model and vectorizer saved successfully!\")\n"
   ]
  },
  {
   "cell_type": "code",
   "execution_count": 25,
   "id": "01e6c2f0-a43d-41ef-a83c-a55d78eeef1b",
   "metadata": {},
   "outputs": [
    {
     "name": "stdout",
     "output_type": "stream",
     "text": [
      "[0 0]\n"
     ]
    }
   ],
   "source": [
    "import joblib\n",
    "\n",
    "model = joblib.load(\"final_model.pkl\")\n",
    "vectorizer = joblib.load(\"tfidf_vectorizer.pkl\")\n",
    "\n",
    "# Example usage\n",
    "new_texts = [\"Breaking news: The government announces a new policy\", \n",
    "             \"Aliens landed in New York! Fake news spreading fast\"]\n",
    "\n",
    "X_new = vectorizer.transform(new_texts)\n",
    "\n",
    "predictions = model.predict(X_new)\n",
    "print(predictions)   "
   ]
  },
  {
   "cell_type": "code",
   "execution_count": null,
   "id": "b024c6dd-6a9f-4d76-b0bd-68f547b0444c",
   "metadata": {},
   "outputs": [],
   "source": []
  }
 ],
 "metadata": {
  "kernelspec": {
   "display_name": "Python 3 (ipykernel)",
   "language": "python",
   "name": "python3"
  },
  "language_info": {
   "codemirror_mode": {
    "name": "ipython",
    "version": 3
   },
   "file_extension": ".py",
   "mimetype": "text/x-python",
   "name": "python",
   "nbconvert_exporter": "python",
   "pygments_lexer": "ipython3",
   "version": "3.12.4"
  }
 },
 "nbformat": 4,
 "nbformat_minor": 5
}
